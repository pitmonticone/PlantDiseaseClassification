{
 "cells": [
  {
   "cell_type": "markdown",
   "metadata": {},
   "source": [
    "# Convolutional Neural Network for Plant Disease Classification \n",
    "\n",
    "## Abstract\n",
    "\n",
    "### Problem \n",
    "Misdiagnosis of the many diseases impacting agricultural crops can lead to misuse of chemicals leading to the emergence of resistant pathogen strains, increased input costs, and more outbreaks with significant economic loss and environmental impacts. Current disease diagnosis based on human scouting is time-consuming and expensive, and although computer-vision based models have the promise to increase efficiency, the great variance in symptoms due to age of infected tissues, genetic variations, and light conditions within trees decreases the accuracy of detection.\n",
    "\n",
    "### Objectives\n",
    "The [Plant Pathology Challenge](https://www.kaggle.com/c/plant-pathology-2020-fgvc7/overview) we have attended consists in training a model using images of the [training dataset](https://arxiv.org/abs/2004.11958) to\n",
    "* accurately classify a given image from testing dataset into different diseased category or a healthy leaf; \n",
    "* accurately distinguish between many diseases, sometimes more than one on a single leaf;\n",
    "* deal with rare classes and novel symptoms;\n",
    "* address depth perception—angle, light, shade, physiological age of the leaf; \n",
    "* Incorporate expert knowledge in identification, annotation, quantification, and guiding computer vision to search for relevant features during learning.\n",
    "\n",
    "Submissions are evaluated on [mean column-wise ROC AUC](https://www.kaggle.com/c/plant-pathology-2020-fgvc7/overview/evaluation).\n",
    "\n",
    "### Data \n",
    "\n",
    "Both the training and the test [datasets](https://www.kaggle.com/c/plant-pathology-2020-fgvc7/data) are composed of 1821 high-quality, real-life symptom images of multiple apple foliar diseases, with variable illumination, angles, surfaces, and noise have been manually captured, expert-annotated to create a pilot dataset for apple scab, cedar apple rust, and healthy leaves. \n",
    "\n",
    "We found no indication that \"multiple_diseases\" refers to both \"rust\" and \"scab\", it just seems to indicate the presence of other different kinds of illnesses.\n",
    "\n",
    "\n",
    "### Solution \n",
    "In this project we train N convolutional neural networks (*add specific models*)\n",
    "\n",
    "1. Class balancing with [SMOTE](https://imbalanced-learn.readthedocs.io/en/stable/generated/imblearn.over_sampling.SMOTE.html)\n",
    "1. Data augmentation with [Keras ImageDatagenerator](https://keras.io/api/preprocessing/image/)\n",
    "1. Optimal dropout\n",
    "1. Epoch grid search\n",
    "1. Filters and feature maps visualization of the layers.\n",
    "\n",
    "Auxiliary elements of the pipeline (e.g. SMOTE) have been manually fine tuned,\n",
    "\n",
    "### Results \n",
    "\n",
    "* $ROC = 0.956$ applying the Keras pre-trained model [DenseNet121](https://keras.io/api/applications/densenet/#densenet121-function);\n",
    "* $ROC = 0.915$ applying a relatively shallow CNN defined and trained from scratch. \n",
    "\n",
    "### References\n",
    "\n",
    "1. Kaggle [Plant Pathology 2020 - FGVC7](https://www.kaggle.com/c/plant-pathology-2020-fgvc7/overview) \n",
    "1. Ranjita Thapa et al., 2020 [The Plant Pathology 2020 Challenge Dataset to Classify Foliar Disease of Apples](https://arxiv.org/abs/2004.11958), *arXiv*."
   ]
  },
  {
   "cell_type": "markdown",
   "metadata": {},
   "source": [
    "\n",
    "\n",
    "In this effort (/ project / work / article / report) we train a CNN model (/ convolutional neural network) in order to take part (/ attend) in the [Plant Pathology 2020 - FGVC7](https://www.kaggle.com/c/plant-pathology-2020-fgvc7/overview) Kaggle challange, an image classification task where we ultimately achieved a categorical roc score of 0.956 using [denseNet121](https://keras.io/api/applications/densenet/#densenet121-function), and 0.915 using a relatively shallow CNN defined and trained from scratch. <br>\n",
    "The train and the test datasets are both composed of 1821 images, showing various leaves which are to be classified in 4 categories: \"healthy\", \"multiple disases\", \"rust\", \"scab\", where we founfd no indication that \"multiple_diseases\" refers to both \"rust\" and \"scab\", it just seems to indicate the presene of other 8different) kinds of illnesses.<br>\n",
    "The metric used is the categorical roc. <br>\n",
    "In teh end, we also output a visulization of the filters and activation maps of the layers. <br>\n",
    "Teh techniques we used during training are balancing classes with [SMOTE](https://imbalanced-learn.readthedocs.io/en/stable/generated/imblearn.over_sampling.SMOTE.html), data augemntation wit [Keras' ImageDatagenerator](https://keras.io/api/preprocessing/image/), optimal dropout and epoch grid searching. where possible, also auxiliary elements of the pipeline (e.g. SMOTE) have been manually fine tuned,\n",
    "\n",
    "\n",
    "#### Data Reference\n",
    "\n",
    "Ranjita Thapa et al., 2020 [The Plant Pathology 2020 Challenge Dataset to Classify Foliar Disease of Apples](https://arxiv.org/abs/2004.11958), *arXiv*."
   ]
  },
  {
   "cell_type": "code",
   "execution_count": null,
   "metadata": {},
   "outputs": [],
   "source": []
  }
 ],
 "metadata": {
  "kernelspec": {
   "display_name": "Python 3",
   "language": "python",
   "name": "python3"
  },
  "language_info": {
   "codemirror_mode": {
    "name": "ipython",
    "version": 3
   },
   "file_extension": ".py",
   "mimetype": "text/x-python",
   "name": "python",
   "nbconvert_exporter": "python",
   "pygments_lexer": "ipython3",
   "version": "3.7.6"
  }
 },
 "nbformat": 4,
 "nbformat_minor": 4
}
