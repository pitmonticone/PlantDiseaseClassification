{
 "cells": [
  {
   "cell_type": "markdown",
   "metadata": {},
   "source": [
    "## Abstract\n",
    "\n",
    "In this effort we train a CNN model in order to take part in the [Plant Pathology 2020 - FGVC7](https://www.kaggle.com/c/plant-pathology-2020-fgvc7/discussion/141015), an image classification task where we ultimately achieved a categorical roc score of 0.956 using [denseNet121](https://keras.io/api/applications/densenet/#densenet121-function), and 0.915 using a relatively shallow CNN defined and trained from scratch. <br>\n",
    "The train and the test datasets are both composed of 1821 images, showing various leaves which are to be classified in 4 categories: \"healthy\", \"multiple disases\", \"rust\", \"scab\", where we founfd no indication that \"multiple_diseases\" refers to both \"rust\" and \"scab\", it just seems to indicate the presene of other 8different) kinds of illnesses.<br>\n",
    "The metric used is the categorical roc. <br>\n",
    "In teh end, we also output a visulization of the filters and activation maps of the layers. <br>\n",
    "Teh techniques we used during training are balancing classes with [SMOTE](https://imbalanced-learn.readthedocs.io/en/stable/generated/imblearn.over_sampling.SMOTE.html), data augemntation wit [Keras' ImageDatagenerator](https://keras.io/api/preprocessing/image/), optimal dropout and epoch grid searching. where possible, also auxiliary elements of the pipeline (e.g. SMOTE) have been manually fine tuned,"
   ]
  }
 ],
 "metadata": {
  "kernelspec": {
   "display_name": "Python [conda env:tf-gpu]",
   "language": "python",
   "name": "conda-env-tf-gpu-py"
  },
  "language_info": {
   "codemirror_mode": {
    "name": "ipython",
    "version": 3
   },
   "file_extension": ".py",
   "mimetype": "text/x-python",
   "name": "python",
   "nbconvert_exporter": "python",
   "pygments_lexer": "ipython3",
   "version": "3.7.7"
  }
 },
 "nbformat": 4,
 "nbformat_minor": 4
}
